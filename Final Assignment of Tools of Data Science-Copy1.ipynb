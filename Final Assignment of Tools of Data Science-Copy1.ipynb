{
 "cells": [
  {
   "cell_type": "markdown",
   "id": "e7e30cb9",
   "metadata": {},
   "source": [
    "# Final Assingment"
   ]
  },
  {
   "cell_type": "markdown",
   "id": "9de3919a",
   "metadata": {},
   "source": [
    "This is the final assignment of this module.Let's start this one."
   ]
  },
  {
   "cell_type": "markdown",
   "id": "a81fa63b",
   "metadata": {},
   "source": [
    "### Data Science Languages\n",
    "\n",
    "Here are some of the most popular data science languages:\n",
    "\n",
    "1. Python\n",
    "2. R\n",
    "3. SQL\n",
    "4. Java\n",
    "5. Julia\n",
    "6. Scala\n",
    "7. JavaScript\n",
    "8. Swift\n",
    "9. Go\n",
    "10. MATLAB\n",
    "\n",
    "These languages are all powerful and versatile, and they can be used for a variety of data science tasks."
   ]
  },
  {
   "cell_type": "markdown",
   "id": "dae18fd1",
   "metadata": {},
   "source": [
    "### Popular Data Science Libraries\n",
    "\n",
    "Here are some of the most popular data science libraries in Python:\n",
    "\n",
    "1. NumPy\n",
    "2. SciPy\n",
    "3. Pandas\n",
    "4. Matplotlib\n",
    "5. Scikit-Learn\n",
    "6. TensorFlow\n",
    "7. PyTorch\n",
    "8. Keras\n",
    "9. Seaborn\n",
    "10. Bokeh\n",
    "\n",
    "These libraries provide a wide range of functionality for data science tasks, such as data manipulation, analysis, visualization, and machine learning."
   ]
  },
  {
   "cell_type": "markdown",
   "id": "5acdb564",
   "metadata": {},
   "source": [
    "### Data Science Tools\n",
    "\n",
    "| Tool | Programming Language |\n",
    "|---|---|\n",
    "| NumPy | Python | \n",
    "| SciPy | Python | \n",
    "| Pandas | Python |\n",
    "| Matplotlib | Python |\n",
    "| Scikit-Learn | Python | \n",
    "| TensorFlow | Python | \n",
    "| PyTorch | Python | \n",
    "| Keras | Python | \n",
    "| Seaborn | Python | \n",
    "| Bokeh | Python | \n",
    "\n",
    "This is just a small selection of the many data science tools available. There are many other great tools out there, so I encourage you to explore and find the ones that work best for you.\n"
   ]
  },
  {
   "cell_type": "markdown",
   "id": "c3a3d44d",
   "metadata": {},
   "source": [
    "### Arithmetic Expression Examples\n",
    "\n",
    "An arithmetic expression is a combination of numbers, variables, and operators that represents a mathematical calculation. The operators in an arithmetic expression can be addition (+), subtraction (-), multiplication (*), division (/), and exponentiation (**).\n",
    "\n",
    "Here are some examples of arithmetic expressions:\n",
    "\n",
    "* 5 + 2\n",
    "* 10 - 3\n",
    "* 2 * 3\n",
    "* 10 / 2\n",
    "* 2 ** 3\n",
    "\n",
    "These expressions can be evaluated to produce a numerical value. For example, the expression `5 + 2` evaluates to 7.\n",
    "\n"
   ]
  },
  {
   "cell_type": "code",
   "execution_count": 9,
   "id": "6d74e9b7",
   "metadata": {},
   "outputs": [
    {
     "name": "stdout",
     "output_type": "stream",
     "text": [
      "15\n",
      "50\n",
      "65\n"
     ]
    }
   ],
   "source": [
    "a=5\n",
    "b=10\n",
    "c=a+b\n",
    "d=a*b\n",
    "print(c)\n",
    "print(d)\n",
    "print(c+d)"
   ]
  },
  {
   "cell_type": "markdown",
   "id": "e73bb012",
   "metadata": {},
   "source": [
    "### Convert Minutes to Hours"
   ]
  },
  {
   "cell_type": "code",
   "execution_count": 10,
   "id": "f9266b4b",
   "metadata": {},
   "outputs": [
    {
     "name": "stdout",
     "output_type": "stream",
     "text": [
      "2\n"
     ]
    }
   ],
   "source": [
    "min=120\n",
    "hours=min//60 \n",
    "print(hours)\n"
   ]
  },
  {
   "cell_type": "markdown",
   "id": "62378319",
   "metadata": {},
   "source": [
    "### Objectives\n",
    "\n",
    "* To learn how to create markdown cells in Jupyter Notebooks.\n",
    "* To learn how to use Markdown syntax to format text.\n",
    "* To learn how to create lists, links, and images in Markdown.\n",
    "* To learn how to use Markdown to create well-formatted and readable text.\n"
   ]
  },
  {
   "cell_type": "markdown",
   "id": "50b35688",
   "metadata": {},
   "source": [
    "# Rohit Dusanapudi"
   ]
  }
 ],
 "metadata": {
  "kernelspec": {
   "display_name": "Python 3 (ipykernel)",
   "language": "python",
   "name": "python3"
  },
  "language_info": {
   "codemirror_mode": {
    "name": "ipython",
    "version": 3
   },
   "file_extension": ".py",
   "mimetype": "text/x-python",
   "name": "python",
   "nbconvert_exporter": "python",
   "pygments_lexer": "ipython3",
   "version": "3.9.7"
  }
 },
 "nbformat": 4,
 "nbformat_minor": 5
}
